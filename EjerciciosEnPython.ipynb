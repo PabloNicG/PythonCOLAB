{
  "nbformat": 4,
  "nbformat_minor": 0,
  "metadata": {
    "colab": {
      "name": "EjerciciosEnPython.ipynb",
      "provenance": [],
      "collapsed_sections": [],
      "authorship_tag": "ABX9TyNe+JIy4Jg9A6edpcYMWG7C",
      "include_colab_link": true
    },
    "kernelspec": {
      "name": "python3",
      "display_name": "Python 3"
    },
    "language_info": {
      "name": "python"
    }
  },
  "cells": [
    {
      "cell_type": "markdown",
      "metadata": {
        "id": "view-in-github",
        "colab_type": "text"
      },
      "source": [
        "<a href=\"https://colab.research.google.com/github/PabloNicG/PythonCOLAB/blob/main/EjerciciosEnPython.ipynb\" target=\"_parent\"><img src=\"https://colab.research.google.com/assets/colab-badge.svg\" alt=\"Open In Colab\"/></a>"
      ]
    },
    {
      "cell_type": "markdown",
      "metadata": {
        "id": "SFcyh2eWMpk8"
      },
      "source": [
        "\n",
        "#**Ejercicio1**\n",
        "\n",
        "#Ingresar un numero por consola y mostrar su tabla de multiplicacion"
      ]
    },
    {
      "cell_type": "code",
      "metadata": {
        "id": "A6cgVo4EMoqF"
      },
      "source": [
        ""
      ],
      "execution_count": null,
      "outputs": []
    },
    {
      "cell_type": "code",
      "metadata": {
        "colab": {
          "base_uri": "https://localhost:8080/",
          "height": 239
        },
        "id": "6Vp564WHMb3z",
        "outputId": "a07cac9d-e13a-4ecc-ce68-0911a366ab37"
      },
      "source": [
        "#Declaro la lista\n",
        "lista = []\n",
        "\n",
        "#Declaro una variable a la cual le voy a asignar el numero ingresado \n",
        "x = int(input(\"Ingrese el numero que quiere multiplicar: \"))\n",
        "print(\"La tabla de multiplicacion de: \", x)\n",
        "\n",
        "#Declaro un bucle for, con un rango de 10 posiciones\n",
        "# 0 - 9 \n",
        "for i in range(10):\n",
        "\n",
        "    lista.append((i+1) * x)\n",
        "\n",
        "    print(x, \" x \", i+1,\" = \", lista[i])\n",
        "    \n",
        "    #En este paso con la funcion 'append' agrego un elemento al final de la lista\n",
        "    #Y en el mismo lugar desarrollo la logica, para que comience desde el 1 y no desde el 0 \n",
        "    #le sumo 1 a la posicion i y luego lo multiplico por X (recordemos que x será el numero que\n",
        "    # ingrese por consola).\n",
        "    # #Luego muestro por pantalla\n",
        "    \n",
        "'''\n",
        "El tipo de dato 'range' es una lista inmutable de numeros (anteriormente era una funcion),\n",
        "es una sucesion de numeros, empieza en 0 y termina en n-1. \n",
        "\n",
        "'''\n",
        "\n",
        "\n",
        "\n",
        "\n"
      ],
      "execution_count": null,
      "outputs": [
        {
          "output_type": "stream",
          "name": "stdout",
          "text": [
            "Ingrese el numero que quiere multiplicar: 5\n",
            "La tabla de multiplicacion de:  5\n",
            "5  x  1  =  5\n",
            "5  x  2  =  10\n",
            "5  x  3  =  15\n",
            "5  x  4  =  20\n",
            "5  x  5  =  25\n",
            "5  x  6  =  30\n",
            "5  x  7  =  35\n",
            "5  x  8  =  40\n",
            "5  x  9  =  45\n",
            "5  x  10  =  50\n"
          ]
        },
        {
          "output_type": "execute_result",
          "data": {
            "application/vnd.google.colaboratory.intrinsic+json": {
              "type": "string"
            },
            "text/plain": [
              "\"\\nEl tipo de dato 'range' es una lista inmutable de numeros (anteriormente era una funcion),\\nes una sucesion de numeros, empieza en 0 y termina en n-1. \\n\\n\""
            ]
          },
          "metadata": {},
          "execution_count": 1
        }
      ]
    },
    {
      "cell_type": "markdown",
      "metadata": {
        "id": "QG1hZZBgPjdi"
      },
      "source": [
        "# **Ejercicio 2**\n",
        "\n",
        "#  Llenar dos arreglos de dimensión 5 con números enteros. Sumar los elementos de la misma posición y almacenar los resultados en un tercer arreglo y mostrarlo en pantalla"
      ]
    },
    {
      "cell_type": "code",
      "metadata": {
        "id": "tLwD77lLZ3QA",
        "colab": {
          "base_uri": "https://localhost:8080/"
        },
        "outputId": "e322c8cc-77b0-4d61-e7e6-3f53bbe3a563"
      },
      "source": [
        "import random\n",
        "\n",
        "n = 5\n",
        "\n",
        "array1 = [0] * 5\n",
        "array2 = [0] * 5\n",
        "array3 = [0] * 5\n",
        "\n",
        "print(\"Prueba: Array1:\", array1)\n",
        "\n",
        "print(\"\\n ---------------\")\n",
        "\n",
        "#Rellenamos los primeros dos array\n",
        "for x in range(n):\n",
        "    array1[x] = (int)(random.randrange(0,10))\n",
        "    array2[x] = (int)(random.randrange(0,10))\n",
        "\n",
        "#Sumamos los elementos de los 2 array y lo guardamos en el 3 array\n",
        "for i in range(n):\n",
        "    array3[i] = array1[i] + array2[i]\n",
        "\n",
        "# Muestro el contenido\n",
        "\n",
        "print(\"Array1:\", array1)\n",
        "print(\"Array2:\", array2)\n",
        "\n",
        "print(\"\\n ---------------\")\n",
        "\n",
        "print(\"Array3:\", array3)"
      ],
      "execution_count": null,
      "outputs": [
        {
          "output_type": "stream",
          "name": "stdout",
          "text": [
            "Prueba: Array1: [0, 0, 0, 0, 0]\n",
            "\n",
            " ---------------\n",
            "Array1: [7, 8, 9, 1, 2]\n",
            "Array2: [5, 5, 6, 7, 5]\n",
            "\n",
            " ---------------\n",
            "Array3: [12, 13, 15, 8, 7]\n"
          ]
        }
      ]
    },
    {
      "cell_type": "markdown",
      "metadata": {
        "id": "wuHrNriqI2oE"
      },
      "source": [
        "# **Ejercicio 3**\n",
        "\n",
        "# Calcular el mejorPromedio de notas de un curso escolar.\n",
        "# Guardar en un arreglo las notas mayores al promedio y mostrarlas en pantalla ademas del promedio."
      ]
    },
    {
      "cell_type": "code",
      "metadata": {
        "colab": {
          "base_uri": "https://localhost:8080/"
        },
        "id": "pCukMmwoI2Hj",
        "outputId": "12b39e9a-537d-4821-9c2a-00016c9ad971"
      },
      "source": [
        "#Variables\n",
        "notas = []\n",
        "rango = 0\n",
        "promedio = 0\n",
        "mejorPromedio = 0\n",
        "\n",
        "#Declaro una variable donde guardare el rango de notas\n",
        "rango = int(input(\"Inserte la cantidad de notas: \"))\n",
        "    \n",
        "'''\n",
        "En este bucle for, pongo como rango lo pedido anteriormente\n",
        "luego ingreso las notas y las agrego con append a la lista,\n",
        "en el mismo bucle calculo el promedio y el mejor promedio.\n",
        "'''\n",
        "for i in range(rango):\n",
        "    nota = int(input(\"Inserte la notas: \"))\n",
        "    notas.append(nota)\n",
        "    promedio = promedio + notas[i]\n",
        "    \n",
        "    mejorPromedio = promedio / rango \n",
        "\n",
        "print('\\n ---------------------')\n",
        "\n",
        "print(f'Notas: {notas}')\n",
        "\n",
        "print('\\n ---------------------')\n",
        "\n",
        "print(f'Promedio de notas: {mejorPromedio}')\n",
        "\n",
        "print('\\n ---------------------')\n",
        "\n",
        "'''\n",
        "En este bucle verifico con un if que las notas sean mayores\n",
        "al promedio.\n",
        "'''\n",
        "for i in range(rango):\n",
        "    if notas[i] >= mejorPromedio:\n",
        "        print(f'Nota superior al promedio: {notas[i]}')\n",
        "    else: print(f'Nota inferior al promedio: {notas[i]}')\n",
        "\n",
        "print('\\n ---------------------')\n"
      ],
      "execution_count": null,
      "outputs": [
        {
          "output_type": "stream",
          "name": "stdout",
          "text": [
            "Inserte la cantidad de notas: 2\n",
            "Inserte la notas: 7\n",
            "Inserte la notas: 8\n",
            "\n",
            " ---------------------\n",
            "Notas: [7, 8]\n",
            "\n",
            " ---------------------\n",
            "Promedio de notas: 7.5\n",
            "\n",
            " ---------------------\n",
            "Nota inferior al promedio: 7\n",
            "Nota superior al promedio: 8\n",
            "\n",
            " ---------------------\n"
          ]
        }
      ]
    },
    {
      "cell_type": "markdown",
      "metadata": {
        "id": "sNtJmIaoU1eQ"
      },
      "source": [
        "# **Ejercicio 4**\n",
        "\n",
        "# Almacenar 5 letras en un arreglo y luego almacenarlos en otro arreglo en orden inverso al original."
      ]
    },
    {
      "cell_type": "code",
      "metadata": {
        "colab": {
          "base_uri": "https://localhost:8080/"
        },
        "id": "TuMtA2tEU2Ef",
        "outputId": "3d7bac70-6bb4-46b8-d9a4-731c9f07a747"
      },
      "source": [
        "#Declaro variables\n",
        "letras = []\n",
        "letrasInversa = []\n",
        "''' \n",
        "rango = 5\n",
        "'''\n",
        "#Pido la cantidad de letras a ingresar\n",
        "rango = int(input(\"Seleccione la cantidad de letras: \"))\n",
        "\n",
        "#Declaro bucle for, ingreso la letras y las agrego al arreglo\n",
        "for i in range(rango):\n",
        "    letra = str(input(\"Ingrese una letra: \"))\n",
        "    letras.append(letra)\n",
        "\n",
        "#En este buclo lo que hago es invertir las letras \n",
        "for i in range(rango):\n",
        "        letrasInversa.append(letras[i])\n",
        "\n",
        "        #**los :: corresponden a un slice en python\n",
        "        \n",
        "        letrasInversa = letras[::-1]\n",
        "\n",
        "print(letrasInversa)\n"
      ],
      "execution_count": null,
      "outputs": [
        {
          "output_type": "stream",
          "name": "stdout",
          "text": [
            "Seleccione la cantidad de letras: 5\n",
            "Ingrese una letra: a\n",
            "Ingrese una letra: c\n",
            "Ingrese una letra: v\n",
            "Ingrese una letra: d\n",
            "Ingrese una letra: e\n",
            "['e', 'd', 'v', 'c', 'a']\n"
          ]
        }
      ]
    },
    {
      "cell_type": "markdown",
      "metadata": {
        "id": "cAcY1c9JWIoJ"
      },
      "source": [
        "Python usa :: para separar el valor de Fin, Inicio y Paso.\n",
        "\n",
        "Las direcciones de los segmentos de secuencia de Python se \n",
        "pueden escribir como a **[start:end:step]** y se puede descartar \n",
        "cualquiera de las opciones de inicio, fin o fin. a[::3]es decir\n",
        "cada tercer elemento de la secuencia.\n",
        "\n",
        "Al utilizarlo con un numero negativo lo que hace es imprimir\n",
        "el listado de manera inversa.\n",
        "\n",
        "https://railsware.com/blog/python-for-machine-learning-indexing-and-slicing-for-lists-tuples-strings-and-other-sequential-types/\n",
        "https://docs.python.org/release/2.3.5/whatsnew/section-slices.html"
      ]
    },
    {
      "cell_type": "markdown",
      "metadata": {
        "id": "SflR53V1W7W7"
      },
      "source": [
        "# **Ejercicio 5** \n",
        "\n",
        "#Realizar una matriz donde el usuario elija el tamaño, ingrese los números por teclado y la muestre por pantalla."
      ]
    },
    {
      "cell_type": "code",
      "metadata": {
        "colab": {
          "base_uri": "https://localhost:8080/"
        },
        "id": "yMntSsP_W8Cz",
        "outputId": "f3fb0ed7-f6d5-4447-810b-91ee43f09321"
      },
      "source": [
        "#Variables\n",
        "matriz = []\n",
        "\n",
        "#Ingreso de tamaño\n",
        "filas = int(input(\"Cantidad de filas: \"))\n",
        "columnas = int(input(\"Cantidad de columnas: \"))\n",
        "\n",
        "print('\\n ---------------------')\n",
        "\n",
        "#Agregar los elementos\n",
        "\n",
        "for i in range(filas):\n",
        "    matriz.append([0]*columnas)\n",
        "    \n",
        "    for j in range(columnas):\n",
        "        matriz[i][j] = int(input('Elemento: (%d, %d) : '%(i,j)))\n",
        "\n",
        "\n",
        "print('\\n ---------------------')\n",
        "\n",
        "for i in range(filas):\n",
        "    print(matriz[i]) \n"
      ],
      "execution_count": null,
      "outputs": [
        {
          "output_type": "stream",
          "name": "stdout",
          "text": [
            "Cantidad de filas: 3\n",
            "Cantidad de columnas: 3\n",
            "\n",
            " ---------------------\n",
            "Elemento: (0, 0) : 1\n",
            "Elemento: (0, 1) : 2\n",
            "Elemento: (0, 2) : 3\n",
            "Elemento: (1, 0) : 4\n",
            "Elemento: (1, 1) : 5\n",
            "Elemento: (1, 2) : 6\n",
            "Elemento: (2, 0) : 7\n",
            "Elemento: (2, 1) : 8\n",
            "Elemento: (2, 2) : 9\n",
            "\n",
            " ---------------------\n",
            "[1, 2, 3]\n",
            "[4, 5, 6]\n",
            "[7, 8, 9]\n"
          ]
        }
      ]
    },
    {
      "cell_type": "markdown",
      "metadata": {
        "id": "cpEou8K-XdRC"
      },
      "source": [
        "# **String Format **\n",
        "\n",
        "** en la linea 16 podemos encontrar dentro del input el siguiente formato [%d]\n",
        "El operador \"%\" es usado para dar este formato y fijar las variables \n",
        "\n",
        "*Ejemplo*: \n",
        "\n",
        "Esto imprime \"Hola, Juan!\"\n",
        "\n",
        "nombre = \"Juan\"\n",
        "\n",
        "print(\"Hola, %s!\" % nombre)\n",
        "\n",
        "\n",
        "**%s** - Cadena (O cualquier objeto, como los números al representarlos en una cadena de texto)\n",
        "\n",
        "**%d** - Integrales\n",
        "\n",
        "**%f** - Números de punto flotante\n",
        "\n",
        "**%.<numero de digitos>f** - Números de punto flotante con una cantidad de números fijos a la derecha del punto.\n",
        "\n",
        "**%x/%X **- Integral con representacion hex (minúscula/mayúscula)\n",
        "\n",
        "https://www.learnpython.org/es/String%20Formatting\n"
      ]
    },
    {
      "cell_type": "markdown",
      "metadata": {
        "id": "ZWWHPwURXT8O"
      },
      "source": [
        "# **Ejercicio 6**\n",
        "\n",
        "# Realizar una matriz de tamaño 3x3 con números aleatorios y mostrar su matriz traspuesta"
      ]
    },
    {
      "cell_type": "code",
      "metadata": {
        "colab": {
          "base_uri": "https://localhost:8080/"
        },
        "id": "bvA13JJRdANq",
        "outputId": "d90c4bc3-628a-40ba-e5e6-ae94f8e91a1c"
      },
      "source": [
        "import random\n",
        "\n",
        "filas = 3\n",
        "columnas = 3\n",
        "\n",
        "matriz = [0]*3\n",
        "\n",
        "for i in range(filas):\n",
        "    matriz[i] = [0]*columnas\n",
        "    \n",
        "    for j in range(columnas):\n",
        "        matriz[i][j] = random.randint(1,11)\n",
        "\n",
        "print(\"Matriz original\\n\")\n",
        "for i in range(filas):\n",
        "  print(matriz[i])\n",
        "\n",
        "print(\"\\n ----------\")\n",
        "\n",
        "print(\"\\nMatriz traspuesta\\n\")\n",
        "for i in range(len(matriz)):\n",
        "    traspM = []\n",
        "    \n",
        "    for j in matriz:\n",
        "        traspM.append(j[i])\n",
        "    print(traspM)"
      ],
      "execution_count": null,
      "outputs": [
        {
          "output_type": "stream",
          "name": "stdout",
          "text": [
            "Matriz original\n",
            "\n",
            "[9, 11, 9]\n",
            "[4, 4, 6]\n",
            "[7, 11, 9]\n",
            "\n",
            " ----------\n",
            "\n",
            "Matriz traspuesta\n",
            "\n",
            "[9, 4, 7]\n",
            "[11, 4, 11]\n",
            "[9, 6, 9]\n"
          ]
        }
      ]
    },
    {
      "cell_type": "markdown",
      "metadata": {
        "id": "w0SMIokbjYS2"
      },
      "source": [
        "# **Ejercicio 7**\n",
        "\n",
        "#Realizar una matriz de 3x3 con números aleatorios y contar la cantidad de veces que aparece el número que indique el usuario"
      ]
    },
    {
      "cell_type": "code",
      "metadata": {
        "colab": {
          "base_uri": "https://localhost:8080/"
        },
        "id": "nzMSP0otjcgP",
        "outputId": "d9a6095f-fbc1-4de0-ad3d-8075db682a58"
      },
      "source": [
        "import random\n",
        "\n",
        "matriz = []\n",
        "filas = 3\n",
        "columnas = 3\n",
        "cont = 0\n",
        "\n",
        "matriz = [0]*3 \n",
        "\n",
        "for i in range(filas):\n",
        "# matriz.append([]*columnas)\n",
        "    matriz[i] = [0]*columnas    \n",
        "    \n",
        "    for j in range(columnas):\n",
        "# matriz[i].append(random.randint(1,11))\n",
        "                matriz[i][j] = random.randint(0,10)\n",
        "                \n",
        "print(\"Matriz\\n\")\n",
        "for i in range(filas):\n",
        "      print(matriz[i])\n",
        "\n",
        "print(\"\\n----------\")\n",
        "repetido = int(input(\"Indique un numero: \"))\n",
        "\n",
        "for i in range(len(matriz)):\n",
        "    for j in range(len(matriz)):\n",
        "        if repetido == matriz[i][j]:\n",
        "            cont +=1 \n",
        "print(\"\\n----------\")\n",
        "print(f'El numero {repetido} se repite {cont} veces')              "
      ],
      "execution_count": null,
      "outputs": [
        {
          "output_type": "stream",
          "name": "stdout",
          "text": [
            "Matriz\n",
            "\n",
            "[3, 2, 6]\n",
            "[3, 10, 5]\n",
            "[1, 2, 2]\n",
            "\n",
            "----------\n",
            "Indique un numero: 2\n",
            "\n",
            "----------\n",
            "El numero 2 se repite 3 veces\n"
          ]
        }
      ]
    },
    {
      "cell_type": "code",
      "metadata": {
        "id": "6G9RGg0njlZv"
      },
      "source": [
        ""
      ],
      "execution_count": null,
      "outputs": []
    }
  ]
}